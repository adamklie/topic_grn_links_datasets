{
 "cells": [
  {
   "cell_type": "markdown",
   "id": "e031448c-e9ae-4c09-9a78-e6a1f3e14360",
   "metadata": {},
   "source": [
    "# Load ArchR project and extract tile matrices"
   ]
  },
  {
   "cell_type": "code",
   "execution_count": 3,
   "id": "870f943b-5192-43c8-a38c-71fdb62f6215",
   "metadata": {
    "execution": {
     "iopub.execute_input": "2022-12-16T23:15:56.790334Z",
     "iopub.status.busy": "2022-12-16T23:15:56.788460Z",
     "iopub.status.idle": "2022-12-16T23:16:16.855570Z",
     "shell.execute_reply": "2022-12-16T23:16:16.853136Z"
    },
    "tags": []
   },
   "outputs": [],
   "source": [
    "suppressMessages(library(ArchR))"
   ]
  },
  {
   "cell_type": "code",
   "execution_count": 16,
   "id": "12fba87f-fa11-4a39-afe9-1e8a03074bd8",
   "metadata": {
    "execution": {
     "iopub.execute_input": "2022-12-16T23:30:03.489896Z",
     "iopub.status.busy": "2022-12-16T23:30:03.488032Z",
     "iopub.status.idle": "2022-12-16T23:30:03.507668Z",
     "shell.execute_reply": "2022-12-16T23:30:03.505615Z"
    },
    "tags": []
   },
   "outputs": [],
   "source": [
    "ARCHR_PROJECT = \"../../../data/mouse_adrenal/auxiliary_data/snatac/ENC4_Mouse_Adrenal/Save-ArchR-Project.rds\"\n",
    "ARROW_FILES = \"../../../data/mouse_adrenal/auxiliary_data/snatac/ENC4_Mouse_Adrenal/ArrowFiles/\""
   ]
  },
  {
   "cell_type": "code",
   "execution_count": 21,
   "id": "fe4a4def-760c-4a1f-b8e4-3906f8bdd879",
   "metadata": {
    "execution": {
     "iopub.execute_input": "2022-12-16T23:31:46.599406Z",
     "iopub.status.busy": "2022-12-16T23:31:46.597948Z",
     "iopub.status.idle": "2022-12-16T23:31:47.770920Z",
     "shell.execute_reply": "2022-12-16T23:31:47.769039Z"
    },
    "tags": []
   },
   "outputs": [
    {
     "name": "stderr",
     "output_type": "stream",
     "text": [
      "Successfully loaded ArchRProject!\n",
      "\n",
      "\n",
      "                                                   / |\n",
      "                                                 /    \\\n",
      "            .                                  /      |.\n",
      "            \\\\\\                              /        |.\n",
      "              \\\\\\                          /           `|.\n",
      "                \\\\\\                      /              |.\n",
      "                  \\                    /                |\\\n",
      "                  \\\\#####\\           /                  ||\n",
      "                ==###########>      /                   ||\n",
      "                 \\\\##==......\\    /                     ||\n",
      "            ______ =       =|__ /__                     ||      \\\\\\\n",
      "        ,--' ,----`-,__ ___/'  --,-`-===================##========>\n",
      "       \\               '        ##_______ _____ ,--,__,=##,__   ///\n",
      "        ,    __==    ___,-,__,--'#'  ==='      `-'    | ##,-/\n",
      "        -,____,---'       \\\\####\\\\________________,--\\\\_##,/\n",
      "           ___      .______        ______  __    __  .______      \n",
      "          /   \\     |   _  \\      /      ||  |  |  | |   _  \\     \n",
      "         /  ^  \\    |  |_)  |    |  ,----'|  |__|  | |  |_)  |    \n",
      "        /  /_\\  \\   |      /     |  |     |   __   | |      /     \n",
      "       /  _____  \\  |  |\\  \\\\___ |  `----.|  |  |  | |  |\\  \\\\___.\n",
      "      /__/     \\__\\ | _| `._____| \\______||__|  |__| | _| `._____|\n",
      "    \n",
      "\n"
     ]
    }
   ],
   "source": [
    "proj <- loadArchRProject(\"../../../data/mouse_adrenal/auxiliary_data/snatac/ENC4_Mouse_Adrenal\")"
   ]
  },
  {
   "cell_type": "code",
   "execution_count": 26,
   "id": "239fd538-4fa8-4f63-88d9-dcda6aca7b23",
   "metadata": {
    "execution": {
     "iopub.execute_input": "2022-12-16T23:33:40.460375Z",
     "iopub.status.busy": "2022-12-16T23:33:40.458884Z",
     "iopub.status.idle": "2022-12-16T23:33:40.482107Z",
     "shell.execute_reply": "2022-12-16T23:33:40.480367Z"
    }
   },
   "outputs": [
    {
     "name": "stderr",
     "output_type": "stream",
     "text": [
      "\n",
      "           ___      .______        ______  __    __  .______      \n",
      "          /   \\     |   _  \\      /      ||  |  |  | |   _  \\     \n",
      "         /  ^  \\    |  |_)  |    |  ,----'|  |__|  | |  |_)  |    \n",
      "        /  /_\\  \\   |      /     |  |     |   __   | |      /     \n",
      "       /  _____  \\  |  |\\  \\\\___ |  `----.|  |  |  | |  |\\  \\\\___.\n",
      "      /__/     \\__\\ | _| `._____| \\______||__|  |__| | _| `._____|\n",
      "    \n",
      "\n"
     ]
    },
    {
     "data": {
      "text/plain": [
       "class: ArchRProject \n",
       "outputDirectory: /cellar/users/aklie/data/igvf/topic_grn_links/mouse_adrenal/auxiliary_data/snatac/ENC4_Mouse_Adrenal \n",
       "samples(8): ENCLB293BAX ENCLB069PRB ... ENCLB495DSX ENCLB607FDJ\n",
       "sampleColData names(1): ArrowFiles\n",
       "cellColData names(30): Sample TSSEnrichment ... celltypes subtypes\n",
       "numberOfCells(1): 34996\n",
       "medianTSS(1): 13.774\n",
       "medianFrags(1): 14700.5"
      ]
     },
     "metadata": {},
     "output_type": "display_data"
    }
   ],
   "source": [
    "proj"
   ]
  },
  {
   "cell_type": "code",
   "execution_count": 22,
   "id": "71f69c70-fc3c-4067-9835-ec5e34a2fa7e",
   "metadata": {
    "execution": {
     "iopub.execute_input": "2022-12-16T23:31:49.533436Z",
     "iopub.status.busy": "2022-12-16T23:31:49.531991Z",
     "iopub.status.idle": "2022-12-16T23:31:49.550542Z",
     "shell.execute_reply": "2022-12-16T23:31:49.548890Z"
    },
    "tags": []
   },
   "outputs": [
    {
     "data": {
      "text/html": [
       "'/cellar/users/aklie/data/igvf/topic_grn_links/mouse_adrenal/auxiliary_data/snatac/ENC4_Mouse_Adrenal'"
      ],
      "text/latex": [
       "'/cellar/users/aklie/data/igvf/topic\\_grn\\_links/mouse\\_adrenal/auxiliary\\_data/snatac/ENC4\\_Mouse\\_Adrenal'"
      ],
      "text/markdown": [
       "'/cellar/users/aklie/data/igvf/topic_grn_links/mouse_adrenal/auxiliary_data/snatac/ENC4_Mouse_Adrenal'"
      ],
      "text/plain": [
       "[1] \"/cellar/users/aklie/data/igvf/topic_grn_links/mouse_adrenal/auxiliary_data/snatac/ENC4_Mouse_Adrenal\""
      ]
     },
     "metadata": {},
     "output_type": "display_data"
    }
   ],
   "source": [
    "getOutputDirectory(proj)"
   ]
  },
  {
   "cell_type": "code",
   "execution_count": 24,
   "id": "890de378-7a5d-4917-b285-32db87bba0af",
   "metadata": {
    "execution": {
     "iopub.execute_input": "2022-12-16T23:32:40.916883Z",
     "iopub.status.busy": "2022-12-16T23:32:40.915410Z",
     "iopub.status.idle": "2022-12-16T23:32:40.985920Z",
     "shell.execute_reply": "2022-12-16T23:32:40.984152Z"
    },
    "tags": []
   },
   "outputs": [
    {
     "data": {
      "text/html": [
       "'Memory Size = 103.573 MB'"
      ],
      "text/latex": [
       "'Memory Size = 103.573 MB'"
      ],
      "text/markdown": [
       "'Memory Size = 103.573 MB'"
      ],
      "text/plain": [
       "[1] \"Memory Size = 103.573 MB\""
      ]
     },
     "metadata": {},
     "output_type": "display_data"
    }
   ],
   "source": [
    "paste0(\"Memory Size = \", round(object.size(proj) / 10^6, 3), \" MB\")"
   ]
  },
  {
   "cell_type": "code",
   "execution_count": 25,
   "id": "24fd3974-f58a-46ca-890d-6cb733c50d6c",
   "metadata": {
    "execution": {
     "iopub.execute_input": "2022-12-16T23:32:48.279618Z",
     "iopub.status.busy": "2022-12-16T23:32:48.278202Z",
     "iopub.status.idle": "2022-12-16T23:33:18.515560Z",
     "shell.execute_reply": "2022-12-16T23:33:18.513867Z"
    }
   },
   "outputs": [
    {
     "data": {
      "text/html": [
       "<style>\n",
       ".list-inline {list-style: none; margin:0; padding: 0}\n",
       ".list-inline>li {display: inline-block}\n",
       ".list-inline>li:not(:last-child)::after {content: \"\\00b7\"; padding: 0 .5ex}\n",
       "</style>\n",
       "<ol class=list-inline><li>'GeneScoreMatrix'</li><li>'TileMatrix'</li></ol>\n"
      ],
      "text/latex": [
       "\\begin{enumerate*}\n",
       "\\item 'GeneScoreMatrix'\n",
       "\\item 'TileMatrix'\n",
       "\\end{enumerate*}\n"
      ],
      "text/markdown": [
       "1. 'GeneScoreMatrix'\n",
       "2. 'TileMatrix'\n",
       "\n",
       "\n"
      ],
      "text/plain": [
       "[1] \"GeneScoreMatrix\" \"TileMatrix\"     "
      ]
     },
     "metadata": {},
     "output_type": "display_data"
    }
   ],
   "source": [
    "getAvailableMatrices(proj)"
   ]
  },
  {
   "cell_type": "code",
   "execution_count": 27,
   "id": "f98cacd0-8895-485f-a185-095fcd6671ae",
   "metadata": {
    "execution": {
     "iopub.execute_input": "2022-12-16T23:34:25.550141Z",
     "iopub.status.busy": "2022-12-16T23:34:25.548606Z",
     "iopub.status.idle": "2022-12-16T23:34:25.566755Z",
     "shell.execute_reply": "2022-12-16T23:34:25.565038Z"
    }
   },
   "outputs": [
    {
     "data": {
      "text/html": [
       "<style>\n",
       ".list-inline {list-style: none; margin:0; padding: 0}\n",
       ".list-inline>li {display: inline-block}\n",
       ".list-inline>li:not(:last-child)::after {content: \"\\00b7\"; padding: 0 .5ex}\n",
       "</style>\n",
       "<ol class=list-inline><li>'ENCLB293BAX#CGTCCCTCTCAAGCTC'</li><li>'ENCLB293BAX#CATTTAGCTAAGGTGC'</li><li>'ENCLB293BAX#AAGCACGCTTAGTCAT'</li><li>'ENCLB293BAX#ATTGCTCGATCCTGAC'</li><li>'ENCLB293BAX#AGGGTATTGAGGAAGG'</li><li>'ENCLB293BAX#TGCAACAGACAACAAC'</li></ol>\n"
      ],
      "text/latex": [
       "\\begin{enumerate*}\n",
       "\\item 'ENCLB293BAX\\#CGTCCCTCTCAAGCTC'\n",
       "\\item 'ENCLB293BAX\\#CATTTAGCTAAGGTGC'\n",
       "\\item 'ENCLB293BAX\\#AAGCACGCTTAGTCAT'\n",
       "\\item 'ENCLB293BAX\\#ATTGCTCGATCCTGAC'\n",
       "\\item 'ENCLB293BAX\\#AGGGTATTGAGGAAGG'\n",
       "\\item 'ENCLB293BAX\\#TGCAACAGACAACAAC'\n",
       "\\end{enumerate*}\n"
      ],
      "text/markdown": [
       "1. 'ENCLB293BAX#CGTCCCTCTCAAGCTC'\n",
       "2. 'ENCLB293BAX#CATTTAGCTAAGGTGC'\n",
       "3. 'ENCLB293BAX#AAGCACGCTTAGTCAT'\n",
       "4. 'ENCLB293BAX#ATTGCTCGATCCTGAC'\n",
       "5. 'ENCLB293BAX#AGGGTATTGAGGAAGG'\n",
       "6. 'ENCLB293BAX#TGCAACAGACAACAAC'\n",
       "\n",
       "\n"
      ],
      "text/plain": [
       "[1] \"ENCLB293BAX#CGTCCCTCTCAAGCTC\" \"ENCLB293BAX#CATTTAGCTAAGGTGC\"\n",
       "[3] \"ENCLB293BAX#AAGCACGCTTAGTCAT\" \"ENCLB293BAX#ATTGCTCGATCCTGAC\"\n",
       "[5] \"ENCLB293BAX#AGGGTATTGAGGAAGG\" \"ENCLB293BAX#TGCAACAGACAACAAC\""
      ]
     },
     "metadata": {},
     "output_type": "display_data"
    }
   ],
   "source": [
    "head(proj$cellNames)"
   ]
  },
  {
   "cell_type": "code",
   "execution_count": 28,
   "id": "46415594-6322-4b13-9290-4dd4a3c4f055",
   "metadata": {
    "execution": {
     "iopub.execute_input": "2022-12-16T23:35:09.525707Z",
     "iopub.status.busy": "2022-12-16T23:35:09.524265Z",
     "iopub.status.idle": "2022-12-16T23:35:09.608821Z",
     "shell.execute_reply": "2022-12-16T23:35:09.606878Z"
    }
   },
   "outputs": [
    {
     "name": "stderr",
     "output_type": "stream",
     "text": [
      "\n",
      "           ___      .______        ______  __    __  .______      \n",
      "          /   \\     |   _  \\      /      ||  |  |  | |   _  \\     \n",
      "         /  ^  \\    |  |_)  |    |  ,----'|  |__|  | |  |_)  |    \n",
      "        /  /_\\  \\   |      /     |  |     |   __   | |      /     \n",
      "       /  _____  \\  |  |\\  \\\\___ |  `----.|  |  |  | |  |\\  \\\\___.\n",
      "      /__/     \\__\\ | _| `._____| \\______||__|  |__| | _| `._____|\n",
      "    \n",
      "\n"
     ]
    },
    {
     "data": {
      "text/plain": [
       "class: ArchRProject \n",
       "outputDirectory: /cellar/users/aklie/data/igvf/topic_grn_links/mouse_adrenal/auxiliary_data/snatac/ENC4_Mouse_Adrenal \n",
       "samples(8): ENCLB293BAX ENCLB069PRB ... ENCLB495DSX ENCLB607FDJ\n",
       "sampleColData names(1): ArrowFiles\n",
       "cellColData names(30): Sample TSSEnrichment ... celltypes subtypes\n",
       "numberOfCells(1): 4507\n",
       "medianTSS(1): 14.249\n",
       "medianFrags(1): 19667"
      ]
     },
     "metadata": {},
     "output_type": "display_data"
    }
   ],
   "source": [
    "idxSample <- BiocGenerics::which(proj$Sample %in% \"ENCLB293BAX\")\n",
    "cellsSample <- proj$cellNames[idxSample]\n",
    "proj[cellsSample, ]"
   ]
  },
  {
   "cell_type": "code",
   "execution_count": 37,
   "id": "3ab9b43f-2697-4c1d-b771-4c14a83d8509",
   "metadata": {
    "execution": {
     "iopub.execute_input": "2022-12-16T23:47:28.913148Z",
     "iopub.status.busy": "2022-12-16T23:47:28.911591Z",
     "iopub.status.idle": "2022-12-16T23:47:28.964005Z",
     "shell.execute_reply": "2022-12-16T23:47:28.962276Z"
    },
    "tags": []
   },
   "outputs": [
    {
     "data": {
      "text/plain": [
       "\n",
       "         Adipocytes             Capsule      Cortex_cycling           Cortex_ZF \n",
       "                872                  57                 704               14881 \n",
       "          Cortex_ZG         Endothelial Endothelial_cycling          Fibroblast \n",
       "               1666                4735                 230                 670 \n",
       " Fibroblast_cycling          Hepatocyte         Macrophages        Male_only_ZF \n",
       "                163                  15                 971                2424 \n",
       "      Medulla_early         Medulla_EPI          Medulla_NE     Skeletal_muscle \n",
       "                 24                1874                1472                   1 \n",
       "      Smooth_muscle              Sox10+             Stromal              X_zone \n",
       "                 63                 216                1406                2552 "
      ]
     },
     "metadata": {},
     "output_type": "display_data"
    }
   ],
   "source": [
    "table(getCellColData(proj, select = \"subtypes\"))"
   ]
  },
  {
   "cell_type": "code",
   "execution_count": 39,
   "id": "a914e90e-a6ff-4909-8947-a65b386bfd3b",
   "metadata": {
    "execution": {
     "iopub.execute_input": "2022-12-16T23:49:22.279662Z",
     "iopub.status.busy": "2022-12-16T23:49:22.278053Z",
     "iopub.status.idle": "2022-12-16T23:49:22.293772Z",
     "shell.execute_reply": "2022-12-16T23:49:22.291978Z"
    },
    "tags": []
   },
   "outputs": [],
   "source": [
    "SUBSET_DIR <- \"/cellar/users/aklie/projects/igvf/topic_grn_links/data/mouse_adrenal/preprocessed/snatac/adipocytes\""
   ]
  },
  {
   "cell_type": "code",
   "execution_count": 40,
   "id": "577c3ba7-1013-4cd2-8e15-e7512f39e304",
   "metadata": {
    "execution": {
     "iopub.execute_input": "2022-12-16T23:49:31.659074Z",
     "iopub.status.busy": "2022-12-16T23:49:31.657541Z",
     "iopub.status.idle": "2022-12-16T23:49:31.681577Z",
     "shell.execute_reply": "2022-12-16T23:49:31.679929Z"
    },
    "tags": []
   },
   "outputs": [
    {
     "data": {
      "text/html": [
       "872"
      ],
      "text/latex": [
       "872"
      ],
      "text/markdown": [
       "872"
      ],
      "text/plain": [
       "[1] 872"
      ]
     },
     "metadata": {},
     "output_type": "display_data"
    }
   ],
   "source": [
    "idxSample <- BiocGenerics::which(proj$celltypes %in% \"Adipocytes\")\n",
    "cellsSample <- proj$cellNames[idxSample]\n",
    "length(cellsSample)"
   ]
  },
  {
   "cell_type": "code",
   "execution_count": 41,
   "id": "a4337ac0-a1cf-418b-9389-fc898bf6c6fb",
   "metadata": {
    "execution": {
     "iopub.execute_input": "2022-12-16T23:50:08.805154Z",
     "iopub.status.busy": "2022-12-16T23:50:08.803597Z",
     "iopub.status.idle": "2022-12-17T00:02:09.496785Z",
     "shell.execute_reply": "2022-12-17T00:02:09.495063Z"
    }
   },
   "outputs": [
    {
     "name": "stderr",
     "output_type": "stream",
     "text": [
      "Copying ArchRProject to new outputDirectory : /cellar/users/aklie/data/igvf/topic_grn_links/mouse_adrenal/preprocessed/snatac/adipocytes\n",
      "\n",
      "Copying Arrow Files...\n",
      "\n",
      ".copyArrow : Initializing Out ArrowFile\n",
      "\n",
      ".copyArrow : Adding Metadata to Out ArrowFile\n",
      "\n",
      ".copyArrow : Adding SubMatrices to Out ArrowFile\n",
      "\n",
      ".copyArrow : Initializing Out ArrowFile\n",
      "\n",
      ".copyArrow : Adding Metadata to Out ArrowFile\n",
      "\n",
      ".copyArrow : Adding SubMatrices to Out ArrowFile\n",
      "\n",
      ".copyArrow : Initializing Out ArrowFile\n",
      "\n",
      ".copyArrow : Adding Metadata to Out ArrowFile\n",
      "\n",
      ".copyArrow : Adding SubMatrices to Out ArrowFile\n",
      "\n",
      ".copyArrow : Initializing Out ArrowFile\n",
      "\n",
      ".copyArrow : Adding Metadata to Out ArrowFile\n",
      "\n",
      ".copyArrow : Adding SubMatrices to Out ArrowFile\n",
      "\n",
      ".copyArrow : Initializing Out ArrowFile\n",
      "\n",
      ".copyArrow : Adding Metadata to Out ArrowFile\n",
      "\n",
      ".copyArrow : Adding SubMatrices to Out ArrowFile\n",
      "\n",
      ".copyArrow : Initializing Out ArrowFile\n",
      "\n",
      ".copyArrow : Adding Metadata to Out ArrowFile\n",
      "\n",
      ".copyArrow : Adding SubMatrices to Out ArrowFile\n",
      "\n",
      ".copyArrow : Initializing Out ArrowFile\n",
      "\n",
      ".copyArrow : Adding Metadata to Out ArrowFile\n",
      "\n",
      ".copyArrow : Adding SubMatrices to Out ArrowFile\n",
      "\n",
      ".copyArrow : Initializing Out ArrowFile\n",
      "\n",
      ".copyArrow : Adding Metadata to Out ArrowFile\n",
      "\n",
      ".copyArrow : Adding SubMatrices to Out ArrowFile\n",
      "\n",
      "Getting ImputeWeights\n",
      "\n",
      "No imputeWeights found, returning NULL\n",
      "\n",
      "Copying Other Files...\n",
      "\n",
      "Copying Other Files (1 of 43): Embeddings\n",
      "\n",
      "Copying Other Files (2 of 43): ENCLB012QYK\n",
      "\n",
      "Copying Other Files (3 of 43): ENCLB063XDV\n",
      "\n",
      "Copying Other Files (4 of 43): ENCLB069PRB\n",
      "\n",
      "Copying Other Files (5 of 43): ENCLB089YWN\n",
      "\n",
      "Copying Other Files (6 of 43): ENCLB104XFX\n",
      "\n",
      "Copying Other Files (7 of 43): ENCLB139QES\n",
      "\n",
      "Copying Other Files (8 of 43): ENCLB225KMP\n",
      "\n",
      "Copying Other Files (9 of 43): ENCLB275OVJ\n",
      "\n",
      "Copying Other Files (10 of 43): ENCLB275WWO\n",
      "\n",
      "Copying Other Files (11 of 43): ENCLB293BAX\n",
      "\n",
      "Copying Other Files (12 of 43): ENCLB320HXY\n",
      "\n",
      "Copying Other Files (13 of 43): ENCLB320ZLU\n",
      "\n",
      "Copying Other Files (14 of 43): ENCLB349KYC\n",
      "\n",
      "Copying Other Files (15 of 43): ENCLB432ZEQ\n",
      "\n",
      "Copying Other Files (16 of 43): ENCLB442AMV\n",
      "\n",
      "Copying Other Files (17 of 43): ENCLB495DSX\n",
      "\n",
      "Copying Other Files (18 of 43): ENCLB526RVS\n",
      "\n",
      "Copying Other Files (19 of 43): ENCLB560GBC\n",
      "\n",
      "Copying Other Files (20 of 43): ENCLB568RWC\n",
      "\n",
      "Copying Other Files (21 of 43): ENCLB607FDJ\n",
      "\n",
      "Copying Other Files (22 of 43): ENCLB608YNH\n",
      "\n",
      "Copying Other Files (23 of 43): ENCLB663TUU\n",
      "\n",
      "Copying Other Files (24 of 43): ENCLB673NZA\n",
      "\n",
      "Copying Other Files (25 of 43): ENCLB675MBI\n",
      "\n",
      "Copying Other Files (26 of 43): ENCLB676AMA\n",
      "\n",
      "Copying Other Files (27 of 43): ENCLB713ETA\n",
      "\n",
      "Copying Other Files (28 of 43): ENCLB766ZBL\n",
      "\n",
      "Copying Other Files (29 of 43): ENCLB786EOH\n",
      "\n",
      "Copying Other Files (30 of 43): ENCLB794PMK\n",
      "\n",
      "Copying Other Files (31 of 43): ENCLB807HIR\n",
      "\n",
      "Copying Other Files (32 of 43): ENCLB807VEG\n",
      "\n",
      "Copying Other Files (33 of 43): ENCLB808STP\n",
      "\n",
      "Copying Other Files (34 of 43): ENCLB835IXS\n",
      "\n",
      "Copying Other Files (35 of 43): ENCLB847VJF\n",
      "\n",
      "Copying Other Files (36 of 43): ENCLB850RYI\n",
      "\n",
      "Copying Other Files (37 of 43): ENCLB854VKF\n",
      "\n",
      "Copying Other Files (38 of 43): ENCLB866MAL\n",
      "\n",
      "Copying Other Files (39 of 43): ENCLB871PHY\n",
      "\n",
      "Copying Other Files (40 of 43): ENCLB983BCX\n",
      "\n",
      "Copying Other Files (41 of 43): ENCLB995TFV\n",
      "\n",
      "Copying Other Files (42 of 43): IterativeLSI\n",
      "\n",
      "Copying Other Files (43 of 43): Plots\n",
      "\n",
      "Saving ArchRProject...\n",
      "\n",
      "Loading ArchRProject...\n",
      "\n",
      "Successfully loaded ArchRProject!\n",
      "\n",
      "\n",
      "                                                   / |\n",
      "                                                 /    \\\n",
      "            .                                  /      |.\n",
      "            \\\\\\                              /        |.\n",
      "              \\\\\\                          /           `|.\n",
      "                \\\\\\                      /              |.\n",
      "                  \\                    /                |\\\n",
      "                  \\\\#####\\           /                  ||\n",
      "                ==###########>      /                   ||\n",
      "                 \\\\##==......\\    /                     ||\n",
      "            ______ =       =|__ /__                     ||      \\\\\\\n",
      "        ,--' ,----`-,__ ___/'  --,-`-===================##========>\n",
      "       \\               '        ##_______ _____ ,--,__,=##,__   ///\n",
      "        ,    __==    ___,-,__,--'#'  ==='      `-'    | ##,-/\n",
      "        -,____,---'       \\\\####\\\\________________,--\\\\_##,/\n",
      "           ___      .______        ______  __    __  .______      \n",
      "          /   \\     |   _  \\      /      ||  |  |  | |   _  \\     \n",
      "         /  ^  \\    |  |_)  |    |  ,----'|  |__|  | |  |_)  |    \n",
      "        /  /_\\  \\   |      /     |  |     |   __   | |      /     \n",
      "       /  _____  \\  |  |\\  \\\\___ |  `----.|  |  |  | |  |\\  \\\\___.\n",
      "      /__/     \\__\\ | _| `._____| \\______||__|  |__| | _| `._____|\n",
      "    \n",
      "\n",
      "\n",
      "           ___      .______        ______  __    __  .______      \n",
      "          /   \\     |   _  \\      /      ||  |  |  | |   _  \\     \n",
      "         /  ^  \\    |  |_)  |    |  ,----'|  |__|  | |  |_)  |    \n",
      "        /  /_\\  \\   |      /     |  |     |   __   | |      /     \n",
      "       /  _____  \\  |  |\\  \\\\___ |  `----.|  |  |  | |  |\\  \\\\___.\n",
      "      /__/     \\__\\ | _| `._____| \\______||__|  |__| | _| `._____|\n",
      "    \n",
      "\n"
     ]
    },
    {
     "data": {
      "text/plain": [
       "class: ArchRProject \n",
       "outputDirectory: /cellar/users/aklie/data/igvf/topic_grn_links/mouse_adrenal/preprocessed/snatac/adipocytes \n",
       "samples(8): ENCLB293BAX ENCLB069PRB ... ENCLB495DSX ENCLB607FDJ\n",
       "sampleColData names(1): ArrowFiles\n",
       "cellColData names(30): Sample TSSEnrichment ... celltypes subtypes\n",
       "numberOfCells(1): 872\n",
       "medianTSS(1): 12.585\n",
       "medianFrags(1): 18791.5"
      ]
     },
     "metadata": {},
     "output_type": "display_data"
    }
   ],
   "source": [
    "subsetArchRProject(\n",
    "    proj,\n",
    "    cells=cellsSample,\n",
    "    outputDirectory=SUBSET_DIR\n",
    ")"
   ]
  },
  {
   "cell_type": "markdown",
   "id": "aef261c7-a3db-4bf4-9b65-ddf9c0331883",
   "metadata": {},
   "source": [
    "## Subset to single sample"
   ]
  },
  {
   "cell_type": "code",
   "execution_count": null,
   "id": "42276308-2a08-4234-bd68-807d38ae3509",
   "metadata": {
    "execution": {
     "iopub.execute_input": "2022-12-17T00:03:36.070067Z",
     "iopub.status.busy": "2022-12-17T00:03:36.068399Z",
     "iopub.status.idle": "2022-12-17T00:03:36.123411Z",
     "shell.execute_reply": "2022-12-17T00:03:36.121505Z"
    },
    "tags": []
   },
   "outputs": [
    {
     "data": {
      "text/plain": [
       "\n",
       "ENCLB069PRB ENCLB139QES ENCLB293BAX ENCLB442AMV ENCLB495DSX ENCLB568RWC \n",
       "       5163        5270        4507        3989        4324        4584 \n",
       "ENCLB607FDJ ENCLB663TUU \n",
       "       3172        3987 "
      ]
     },
     "metadata": {},
     "output_type": "display_data"
    }
   ],
   "source": [
    "table(getCellColData(proj, select = \"Sample\"))"
   ]
  },
  {
   "cell_type": "code",
   "execution_count": 45,
   "id": "a74e946f-72a8-4e99-8cf6-aad2c046690c",
   "metadata": {
    "execution": {
     "iopub.execute_input": "2022-12-17T00:04:04.706385Z",
     "iopub.status.busy": "2022-12-17T00:04:04.704819Z",
     "iopub.status.idle": "2022-12-17T00:04:04.724098Z",
     "shell.execute_reply": "2022-12-17T00:04:04.722486Z"
    },
    "tags": []
   },
   "outputs": [],
   "source": [
    "idxSample <- BiocGenerics::which(proj$Sample %in% \"ENCLB607FDJ\")\n",
    "cellsSample <- proj$cellNames[idxSample]"
   ]
  },
  {
   "cell_type": "code",
   "execution_count": 46,
   "id": "9122c85f-c534-4b79-b742-41eb6ed18274",
   "metadata": {
    "execution": {
     "iopub.execute_input": "2022-12-17T00:04:28.884500Z",
     "iopub.status.busy": "2022-12-17T00:04:28.882923Z",
     "iopub.status.idle": "2022-12-17T00:04:28.898220Z",
     "shell.execute_reply": "2022-12-17T00:04:28.896425Z"
    },
    "tags": []
   },
   "outputs": [],
   "source": [
    "SUBSET_DIR <- \"/cellar/users/aklie/projects/igvf/topic_grn_links/data/mouse_adrenal/preprocessed/snatac/ENCLB607FDJ\""
   ]
  },
  {
   "cell_type": "code",
   "execution_count": 47,
   "id": "3988f454-55d5-4408-946a-7e74f3f9f582",
   "metadata": {
    "execution": {
     "iopub.execute_input": "2022-12-17T00:04:37.428096Z",
     "iopub.status.busy": "2022-12-17T00:04:37.426515Z",
     "iopub.status.idle": "2022-12-17T00:08:59.925087Z",
     "shell.execute_reply": "2022-12-17T00:08:59.923372Z"
    },
    "tags": []
   },
   "outputs": [
    {
     "name": "stderr",
     "output_type": "stream",
     "text": [
      "Copying ArchRProject to new outputDirectory : /cellar/users/aklie/data/igvf/topic_grn_links/mouse_adrenal/preprocessed/snatac/ENCLB607FDJ\n",
      "\n",
      "Copying Arrow Files...\n",
      "\n",
      ".copyArrow : Initializing Out ArrowFile\n",
      "\n",
      ".copyArrow : Adding Metadata to Out ArrowFile\n",
      "\n",
      ".copyArrow : Adding SubMatrices to Out ArrowFile\n",
      "\n",
      "Getting ImputeWeights\n",
      "\n",
      "No imputeWeights found, returning NULL\n",
      "\n",
      "Copying Other Files...\n",
      "\n",
      "Copying Other Files (1 of 43): Embeddings\n",
      "\n",
      "Copying Other Files (2 of 43): ENCLB012QYK\n",
      "\n",
      "Copying Other Files (3 of 43): ENCLB063XDV\n",
      "\n",
      "Copying Other Files (4 of 43): ENCLB069PRB\n",
      "\n",
      "Copying Other Files (5 of 43): ENCLB089YWN\n",
      "\n",
      "Copying Other Files (6 of 43): ENCLB104XFX\n",
      "\n",
      "Copying Other Files (7 of 43): ENCLB139QES\n",
      "\n",
      "Copying Other Files (8 of 43): ENCLB225KMP\n",
      "\n",
      "Copying Other Files (9 of 43): ENCLB275OVJ\n",
      "\n",
      "Copying Other Files (10 of 43): ENCLB275WWO\n",
      "\n",
      "Copying Other Files (11 of 43): ENCLB293BAX\n",
      "\n",
      "Copying Other Files (12 of 43): ENCLB320HXY\n",
      "\n",
      "Copying Other Files (13 of 43): ENCLB320ZLU\n",
      "\n",
      "Copying Other Files (14 of 43): ENCLB349KYC\n",
      "\n",
      "Copying Other Files (15 of 43): ENCLB432ZEQ\n",
      "\n",
      "Copying Other Files (16 of 43): ENCLB442AMV\n",
      "\n",
      "Copying Other Files (17 of 43): ENCLB495DSX\n",
      "\n",
      "Copying Other Files (18 of 43): ENCLB526RVS\n",
      "\n",
      "Copying Other Files (19 of 43): ENCLB560GBC\n",
      "\n",
      "Copying Other Files (20 of 43): ENCLB568RWC\n",
      "\n",
      "Copying Other Files (21 of 43): ENCLB607FDJ\n",
      "\n",
      "Copying Other Files (22 of 43): ENCLB608YNH\n",
      "\n",
      "Copying Other Files (23 of 43): ENCLB663TUU\n",
      "\n",
      "Copying Other Files (24 of 43): ENCLB673NZA\n",
      "\n",
      "Copying Other Files (25 of 43): ENCLB675MBI\n",
      "\n",
      "Copying Other Files (26 of 43): ENCLB676AMA\n",
      "\n",
      "Copying Other Files (27 of 43): ENCLB713ETA\n",
      "\n",
      "Copying Other Files (28 of 43): ENCLB766ZBL\n",
      "\n",
      "Copying Other Files (29 of 43): ENCLB786EOH\n",
      "\n",
      "Copying Other Files (30 of 43): ENCLB794PMK\n",
      "\n",
      "Copying Other Files (31 of 43): ENCLB807HIR\n",
      "\n",
      "Copying Other Files (32 of 43): ENCLB807VEG\n",
      "\n",
      "Copying Other Files (33 of 43): ENCLB808STP\n",
      "\n",
      "Copying Other Files (34 of 43): ENCLB835IXS\n",
      "\n",
      "Copying Other Files (35 of 43): ENCLB847VJF\n",
      "\n",
      "Copying Other Files (36 of 43): ENCLB850RYI\n",
      "\n",
      "Copying Other Files (37 of 43): ENCLB854VKF\n",
      "\n",
      "Copying Other Files (38 of 43): ENCLB866MAL\n",
      "\n",
      "Copying Other Files (39 of 43): ENCLB871PHY\n",
      "\n",
      "Copying Other Files (40 of 43): ENCLB983BCX\n",
      "\n",
      "Copying Other Files (41 of 43): ENCLB995TFV\n",
      "\n",
      "Copying Other Files (42 of 43): IterativeLSI\n",
      "\n",
      "Copying Other Files (43 of 43): Plots\n",
      "\n",
      "Saving ArchRProject...\n",
      "\n",
      "Loading ArchRProject...\n",
      "\n",
      "Successfully loaded ArchRProject!\n",
      "\n",
      "\n",
      "                                                   / |\n",
      "                                                 /    \\\n",
      "            .                                  /      |.\n",
      "            \\\\\\                              /        |.\n",
      "              \\\\\\                          /           `|.\n",
      "                \\\\\\                      /              |.\n",
      "                  \\                    /                |\\\n",
      "                  \\\\#####\\           /                  ||\n",
      "                ==###########>      /                   ||\n",
      "                 \\\\##==......\\    /                     ||\n",
      "            ______ =       =|__ /__                     ||      \\\\\\\n",
      "        ,--' ,----`-,__ ___/'  --,-`-===================##========>\n",
      "       \\               '        ##_______ _____ ,--,__,=##,__   ///\n",
      "        ,    __==    ___,-,__,--'#'  ==='      `-'    | ##,-/\n",
      "        -,____,---'       \\\\####\\\\________________,--\\\\_##,/\n",
      "           ___      .______        ______  __    __  .______      \n",
      "          /   \\     |   _  \\      /      ||  |  |  | |   _  \\     \n",
      "         /  ^  \\    |  |_)  |    |  ,----'|  |__|  | |  |_)  |    \n",
      "        /  /_\\  \\   |      /     |  |     |   __   | |      /     \n",
      "       /  _____  \\  |  |\\  \\\\___ |  `----.|  |  |  | |  |\\  \\\\___.\n",
      "      /__/     \\__\\ | _| `._____| \\______||__|  |__| | _| `._____|\n",
      "    \n",
      "\n",
      "\n",
      "           ___      .______        ______  __    __  .______      \n",
      "          /   \\     |   _  \\      /      ||  |  |  | |   _  \\     \n",
      "         /  ^  \\    |  |_)  |    |  ,----'|  |__|  | |  |_)  |    \n",
      "        /  /_\\  \\   |      /     |  |     |   __   | |      /     \n",
      "       /  _____  \\  |  |\\  \\\\___ |  `----.|  |  |  | |  |\\  \\\\___.\n",
      "      /__/     \\__\\ | _| `._____| \\______||__|  |__| | _| `._____|\n",
      "    \n",
      "\n"
     ]
    },
    {
     "data": {
      "text/plain": [
       "class: ArchRProject \n",
       "outputDirectory: /cellar/users/aklie/data/igvf/topic_grn_links/mouse_adrenal/preprocessed/snatac/ENCLB607FDJ \n",
       "samples(1): ENCLB607FDJ\n",
       "sampleColData names(1): ArrowFiles\n",
       "cellColData names(30): Sample TSSEnrichment ... celltypes subtypes\n",
       "numberOfCells(1): 3172\n",
       "medianTSS(1): 13.307\n",
       "medianFrags(1): 16495.5"
      ]
     },
     "metadata": {},
     "output_type": "display_data"
    }
   ],
   "source": [
    "subsetArchRProject(\n",
    "    proj,\n",
    "    cells=cellsSample,\n",
    "    outputDirectory=SUBSET_DIR\n",
    ")"
   ]
  },
  {
   "cell_type": "code",
   "execution_count": 48,
   "id": "a5e86562-ca55-43d6-93f9-5d869727b973",
   "metadata": {
    "execution": {
     "iopub.execute_input": "2022-12-17T00:09:05.562460Z",
     "iopub.status.busy": "2022-12-17T00:09:05.560949Z",
     "iopub.status.idle": "2022-12-17T00:09:06.535964Z",
     "shell.execute_reply": "2022-12-17T00:09:06.534182Z"
    }
   },
   "outputs": [
    {
     "name": "stderr",
     "output_type": "stream",
     "text": [
      "Successfully loaded ArchRProject!\n",
      "\n",
      "\n",
      "                                                   / |\n",
      "                                                 /    \\\n",
      "            .                                  /      |.\n",
      "            \\\\\\                              /        |.\n",
      "              \\\\\\                          /           `|.\n",
      "                \\\\\\                      /              |.\n",
      "                  \\                    /                |\\\n",
      "                  \\\\#####\\           /                  ||\n",
      "                ==###########>      /                   ||\n",
      "                 \\\\##==......\\    /                     ||\n",
      "            ______ =       =|__ /__                     ||      \\\\\\\n",
      "        ,--' ,----`-,__ ___/'  --,-`-===================##========>\n",
      "       \\               '        ##_______ _____ ,--,__,=##,__   ///\n",
      "        ,    __==    ___,-,__,--'#'  ==='      `-'    | ##,-/\n",
      "        -,____,---'       \\\\####\\\\________________,--\\\\_##,/\n",
      "           ___      .______        ______  __    __  .______      \n",
      "          /   \\     |   _  \\      /      ||  |  |  | |   _  \\     \n",
      "         /  ^  \\    |  |_)  |    |  ,----'|  |__|  | |  |_)  |    \n",
      "        /  /_\\  \\   |      /     |  |     |   __   | |      /     \n",
      "       /  _____  \\  |  |\\  \\\\___ |  `----.|  |  |  | |  |\\  \\\\___.\n",
      "      /__/     \\__\\ | _| `._____| \\______||__|  |__| | _| `._____|\n",
      "    \n",
      "\n"
     ]
    }
   ],
   "source": [
    "sample_proj <- loadArchRProject(SUBSET_DIR)"
   ]
  },
  {
   "cell_type": "code",
   "execution_count": 49,
   "id": "388775cc-e8d5-4897-865c-f3a8823ccf76",
   "metadata": {
    "execution": {
     "iopub.execute_input": "2022-12-17T00:09:12.716096Z",
     "iopub.status.busy": "2022-12-17T00:09:12.714493Z",
     "iopub.status.idle": "2022-12-17T00:09:12.736832Z",
     "shell.execute_reply": "2022-12-17T00:09:12.735127Z"
    }
   },
   "outputs": [
    {
     "name": "stderr",
     "output_type": "stream",
     "text": [
      "\n",
      "           ___      .______        ______  __    __  .______      \n",
      "          /   \\     |   _  \\      /      ||  |  |  | |   _  \\     \n",
      "         /  ^  \\    |  |_)  |    |  ,----'|  |__|  | |  |_)  |    \n",
      "        /  /_\\  \\   |      /     |  |     |   __   | |      /     \n",
      "       /  _____  \\  |  |\\  \\\\___ |  `----.|  |  |  | |  |\\  \\\\___.\n",
      "      /__/     \\__\\ | _| `._____| \\______||__|  |__| | _| `._____|\n",
      "    \n",
      "\n"
     ]
    },
    {
     "data": {
      "text/plain": [
       "class: ArchRProject \n",
       "outputDirectory: /cellar/users/aklie/data/igvf/topic_grn_links/mouse_adrenal/preprocessed/snatac/ENCLB607FDJ \n",
       "samples(1): ENCLB607FDJ\n",
       "sampleColData names(1): ArrowFiles\n",
       "cellColData names(30): Sample TSSEnrichment ... celltypes subtypes\n",
       "numberOfCells(1): 3172\n",
       "medianTSS(1): 13.307\n",
       "medianFrags(1): 16495.5"
      ]
     },
     "metadata": {},
     "output_type": "display_data"
    }
   ],
   "source": [
    "sample_proj"
   ]
  },
  {
   "cell_type": "markdown",
   "id": "a1a817e4-2cf0-4dcc-a743-48eebf880051",
   "metadata": {},
   "source": [
    "## Downsample cells"
   ]
  },
  {
   "cell_type": "code",
   "execution_count": 64,
   "id": "f8957078-622c-4bc8-af51-85a43a69d8a8",
   "metadata": {
    "execution": {
     "iopub.execute_input": "2022-12-17T00:12:04.282755Z",
     "iopub.status.busy": "2022-12-17T00:12:04.280917Z",
     "iopub.status.idle": "2022-12-17T00:12:04.351113Z",
     "shell.execute_reply": "2022-12-17T00:12:04.349116Z"
    },
    "tags": []
   },
   "outputs": [
    {
     "name": "stderr",
     "output_type": "stream",
     "text": [
      "\n",
      "           ___      .______        ______  __    __  .______      \n",
      "          /   \\     |   _  \\      /      ||  |  |  | |   _  \\     \n",
      "         /  ^  \\    |  |_)  |    |  ,----'|  |__|  | |  |_)  |    \n",
      "        /  /_\\  \\   |      /     |  |     |   __   | |      /     \n",
      "       /  _____  \\  |  |\\  \\\\___ |  `----.|  |  |  | |  |\\  \\\\___.\n",
      "      /__/     \\__\\ | _| `._____| \\______||__|  |__| | _| `._____|\n",
      "    \n",
      "\n"
     ]
    },
    {
     "data": {
      "text/plain": [
       "class: ArchRProject \n",
       "outputDirectory: /cellar/users/aklie/data/igvf/topic_grn_links/mouse_adrenal/preprocessed/snatac/ENCLB607FDJ \n",
       "samples(1): ENCLB607FDJ\n",
       "sampleColData names(1): ArrowFiles\n",
       "cellColData names(30): Sample TSSEnrichment ... celltypes subtypes\n",
       "numberOfCells(1): 1000\n",
       "medianTSS(1): 13.3635\n",
       "medianFrags(1): 16360"
      ]
     },
     "metadata": {},
     "output_type": "display_data"
    }
   ],
   "source": [
    "# Downsample the cells from this one\n",
    "cellsSubset <- sample(sample_proj$cellNames, 1000)"
   ]
  },
  {
   "cell_type": "code",
   "execution_count": 59,
   "id": "6f4c904d-50ea-4f56-90b7-6da8dff30661",
   "metadata": {
    "execution": {
     "iopub.execute_input": "2022-12-17T00:10:44.442390Z",
     "iopub.status.busy": "2022-12-17T00:10:44.440727Z",
     "iopub.status.idle": "2022-12-17T00:10:44.459313Z",
     "shell.execute_reply": "2022-12-17T00:10:44.457532Z"
    },
    "tags": []
   },
   "outputs": [
    {
     "data": {
      "text/html": [
       "<style>\n",
       ".list-inline {list-style: none; margin:0; padding: 0}\n",
       ".list-inline>li {display: inline-block}\n",
       ".list-inline>li:not(:last-child)::after {content: \"\\00b7\"; padding: 0 .5ex}\n",
       "</style>\n",
       "<ol class=list-inline><li>'ENCLB568RWC#TTTGCATGAAGCGAGG'</li><li>'ENCLB663TUU#CGTCAAGACCAGGAAA'</li><li>'ENCLB139QES#TCAATCCACTAGGCGT'</li><li>'ENCLB139QES#CCAATATCTGTTAACC'</li><li>'ENCLB607FDJ#AGCGATTACCTACCTA'</li><li>'ENCLB069PRB#GTTGACGGACCTCAGT'</li></ol>\n"
      ],
      "text/latex": [
       "\\begin{enumerate*}\n",
       "\\item 'ENCLB568RWC\\#TTTGCATGAAGCGAGG'\n",
       "\\item 'ENCLB663TUU\\#CGTCAAGACCAGGAAA'\n",
       "\\item 'ENCLB139QES\\#TCAATCCACTAGGCGT'\n",
       "\\item 'ENCLB139QES\\#CCAATATCTGTTAACC'\n",
       "\\item 'ENCLB607FDJ\\#AGCGATTACCTACCTA'\n",
       "\\item 'ENCLB069PRB\\#GTTGACGGACCTCAGT'\n",
       "\\end{enumerate*}\n"
      ],
      "text/markdown": [
       "1. 'ENCLB568RWC#TTTGCATGAAGCGAGG'\n",
       "2. 'ENCLB663TUU#CGTCAAGACCAGGAAA'\n",
       "3. 'ENCLB139QES#TCAATCCACTAGGCGT'\n",
       "4. 'ENCLB139QES#CCAATATCTGTTAACC'\n",
       "5. 'ENCLB607FDJ#AGCGATTACCTACCTA'\n",
       "6. 'ENCLB069PRB#GTTGACGGACCTCAGT'\n",
       "\n",
       "\n"
      ],
      "text/plain": [
       "[1] \"ENCLB568RWC#TTTGCATGAAGCGAGG\" \"ENCLB663TUU#CGTCAAGACCAGGAAA\"\n",
       "[3] \"ENCLB139QES#TCAATCCACTAGGCGT\" \"ENCLB139QES#CCAATATCTGTTAACC\"\n",
       "[5] \"ENCLB607FDJ#AGCGATTACCTACCTA\" \"ENCLB069PRB#GTTGACGGACCTCAGT\""
      ]
     },
     "metadata": {},
     "output_type": "display_data"
    }
   ],
   "source": [
    "head(cellsSubset)"
   ]
  },
  {
   "cell_type": "code",
   "execution_count": 55,
   "id": "ec2d74ac-0980-4ac9-a710-c898ad1ce42c",
   "metadata": {
    "execution": {
     "iopub.execute_input": "2022-12-17T00:10:08.967439Z",
     "iopub.status.busy": "2022-12-17T00:10:08.965618Z",
     "iopub.status.idle": "2022-12-17T00:10:08.986546Z",
     "shell.execute_reply": "2022-12-17T00:10:08.984683Z"
    },
    "tags": []
   },
   "outputs": [
    {
     "data": {
      "text/plain": [
       "\n",
       "FALSE \n",
       " 1000 "
      ]
     },
     "metadata": {},
     "output_type": "display_data"
    }
   ],
   "source": [
    "table(is.na(cellsSubset))"
   ]
  },
  {
   "cell_type": "code",
   "execution_count": 51,
   "id": "baedab05-83ba-4adb-87fc-e378480730a8",
   "metadata": {
    "execution": {
     "iopub.execute_input": "2022-12-17T00:09:33.606563Z",
     "iopub.status.busy": "2022-12-17T00:09:33.605029Z",
     "iopub.status.idle": "2022-12-17T00:09:33.623581Z",
     "shell.execute_reply": "2022-12-17T00:09:33.621918Z"
    }
   },
   "outputs": [
    {
     "data": {
      "text/html": [
       "1000"
      ],
      "text/latex": [
       "1000"
      ],
      "text/markdown": [
       "1000"
      ],
      "text/plain": [
       "[1] 1000"
      ]
     },
     "metadata": {},
     "output_type": "display_data"
    }
   ],
   "source": [
    "length(cellsSubset)"
   ]
  },
  {
   "cell_type": "code",
   "execution_count": 65,
   "id": "6da326c9-b667-469f-9649-00ffeeadd084",
   "metadata": {
    "execution": {
     "iopub.execute_input": "2022-12-17T00:12:14.746916Z",
     "iopub.status.busy": "2022-12-17T00:12:14.745112Z",
     "iopub.status.idle": "2022-12-17T00:12:48.387962Z",
     "shell.execute_reply": "2022-12-17T00:12:48.386220Z"
    },
    "tags": []
   },
   "outputs": [
    {
     "name": "stderr",
     "output_type": "stream",
     "text": [
      "ArchR logging to : ArchRLogs/ArchR-getMatrixFromProject-9b67220568bf-Date-2022-12-16_Time-16-12-14.log\n",
      "If there is an issue, please report to github with logFile!\n",
      "\n",
      "2022-12-16 16:12:47 : Organizing colData, 0.545 mins elapsed.\n",
      "\n",
      "2022-12-16 16:12:47 : Organizing rowData, 0.545 mins elapsed.\n",
      "\n",
      "2022-12-16 16:12:47 : Organizing rowRanges, 0.545 mins elapsed.\n",
      "\n",
      "2022-12-16 16:12:47 : Organizing Assays (1 of 1), 0.545 mins elapsed.\n",
      "\n",
      "2022-12-16 16:12:47 : Constructing SummarizedExperiment, 0.545 mins elapsed.\n",
      "\n",
      "2022-12-16 16:12:48 : Finished Matrix Creation, 0.56 mins elapsed.\n",
      "\n"
     ]
    }
   ],
   "source": [
    "mtx <- getMatrixFromProject(\n",
    "    ArchRProj=sample_proj[cellsSubset, ],\n",
    "    useMatrix=\"TileMatrix\",\n",
    "    binarize=TRUE\n",
    ")"
   ]
  },
  {
   "cell_type": "code",
   "execution_count": 66,
   "id": "fb808a87-931d-47a0-a5d4-9f33fc29b7c4",
   "metadata": {
    "execution": {
     "iopub.execute_input": "2022-12-17T00:12:48.391908Z",
     "iopub.status.busy": "2022-12-17T00:12:48.390408Z",
     "iopub.status.idle": "2022-12-17T00:12:48.411526Z",
     "shell.execute_reply": "2022-12-17T00:12:48.409842Z"
    },
    "tags": []
   },
   "outputs": [
    {
     "data": {
      "text/html": [
       "<style>\n",
       ".list-inline {list-style: none; margin:0; padding: 0}\n",
       ".list-inline>li {display: inline-block}\n",
       ".list-inline>li:not(:last-child)::after {content: \"\\00b7\"; padding: 0 .5ex}\n",
       "</style>\n",
       "<ol class=list-inline><li>5451055</li><li>1000</li></ol>\n"
      ],
      "text/latex": [
       "\\begin{enumerate*}\n",
       "\\item 5451055\n",
       "\\item 1000\n",
       "\\end{enumerate*}\n"
      ],
      "text/markdown": [
       "1. 5451055\n",
       "2. 1000\n",
       "\n",
       "\n"
      ],
      "text/plain": [
       "[1] 5451055    1000"
      ]
     },
     "metadata": {},
     "output_type": "display_data"
    }
   ],
   "source": [
    "dim(mtx)"
   ]
  },
  {
   "cell_type": "code",
   "execution_count": null,
   "id": "4fae9052-fb73-4557-b8a1-b59bc2371501",
   "metadata": {},
   "outputs": [],
   "source": [
    "SUBSET_DIR <- \"/cellar/users/aklie/projects/igvf/topic_grn_links/data/mouse_adrenal/preprocessed/snatac/ENCLB607FDJ_subset\""
   ]
  },
  {
   "cell_type": "code",
   "execution_count": null,
   "id": "64a67321-1dcb-475b-adba-68ce065f8631",
   "metadata": {},
   "outputs": [],
   "source": [
    "subsetArchRProject(\n",
    "    sample_proj,\n",
    "    cells=cellsSubset,\n",
    "    outputDirectory=SUBSET_DIR\n",
    ")"
   ]
  },
  {
   "cell_type": "code",
   "execution_count": null,
   "id": "7f0489ae-f084-4739-8104-2244744d1505",
   "metadata": {},
   "outputs": [],
   "source": []
  },
  {
   "cell_type": "markdown",
   "id": "36de0e3f-28fd-43da-a2f6-45e4b71c9537",
   "metadata": {},
   "source": [
    "---"
   ]
  },
  {
   "cell_type": "markdown",
   "id": "9475e8b0-d62d-4bf4-a835-ff64f82daa40",
   "metadata": {},
   "source": [
    "# Scratch"
   ]
  }
 ],
 "metadata": {
  "kernelspec": {
   "display_name": "R 4.1.3 scverse",
   "language": "R",
   "name": "scverse-r413"
  },
  "language_info": {
   "codemirror_mode": "r",
   "file_extension": ".r",
   "mimetype": "text/x-r-source",
   "name": "R",
   "pygments_lexer": "r",
   "version": "4.1.3"
  }
 },
 "nbformat": 4,
 "nbformat_minor": 5
}
